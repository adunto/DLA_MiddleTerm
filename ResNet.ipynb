{
 "cells": [
  {
   "cell_type": "code",
   "execution_count": 1,
   "metadata": {},
   "outputs": [],
   "source": [
    "import torch\n",
    "import torch.nn as nn\n",
    "import torch.optim as optim\n",
    "import torch.nn.functional as F\n",
    "from torchvision import transforms, datasets, models\n",
    "\n",
    "from lib import calculate_normalize as CalNorm\n",
    "\n",
    "import pandas as pd\n",
    "import numpy as np\n",
    "import matplotlib.pyplot as plt"
   ]
  },
  {
   "cell_type": "code",
   "execution_count": 2,
   "metadata": {},
   "outputs": [
    {
     "name": "stdout",
     "output_type": "stream",
     "text": [
      "cuda\n"
     ]
    }
   ],
   "source": [
    "USE_CUDA = torch.cuda.is_available()\n",
    "DEVICE = torch.device(\"cuda\" if USE_CUDA else \"cpu\")\n",
    "print(DEVICE)"
   ]
  },
  {
   "cell_type": "code",
   "execution_count": 3,
   "metadata": {},
   "outputs": [],
   "source": [
    "EPOCHS = 50\n",
    "BATCH_SIZE = 128"
   ]
  },
  {
   "cell_type": "code",
   "execution_count": 4,
   "metadata": {},
   "outputs": [
    {
     "name": "stdout",
     "output_type": "stream",
     "text": [
      "Files already downloaded and verified\n"
     ]
    }
   ],
   "source": [
    "train_loader = torch.utils.data.DataLoader(\n",
    "    datasets.CIFAR100('./.data',\n",
    "                    train=True,\n",
    "                    download=True,\n",
    "                    transform=transforms.Compose([\n",
    "                    transforms.RandomCrop(32, padding=4),\n",
    "                    transforms.RandomHorizontalFlip(),\n",
    "                    transforms.ToTensor(),\n",
    "                    transforms.Normalize((0.5, 0.5, 0.5),\n",
    "                                        (0.5, 0.5, 0.5))])),\n",
    "    batch_size=BATCH_SIZE, shuffle=True)\n",
    "test_loader = torch.utils.data.DataLoader(\n",
    "    datasets.CIFAR100('./.data',\n",
    "                    train=False, \n",
    "                    transform=transforms.Compose([\n",
    "                        transforms.ToTensor(),\n",
    "                        transforms.Normalize((0.5, 0.5, 0.5),\n",
    "                                            (0.5, 0.5, 0.5))])),\n",
    "    batch_size=BATCH_SIZE, shuffle=True)"
   ]
  },
  {
   "cell_type": "code",
   "execution_count": 5,
   "metadata": {},
   "outputs": [],
   "source": [
    "class BasicBlock(nn.Module):\n",
    "    def __init__(self, in_planes, planes, stride=1):\n",
    "        super(BasicBlock, self).__init__()\n",
    "        self.conv1 = nn.Conv2d(in_planes, planes, kernel_size=3,\n",
    "                                stride=stride, padding=1, bias=False)\n",
    "        self.bn1 = nn.BatchNorm2d(planes)\n",
    "        self.conv2 = nn.Conv2d(planes, planes, kernel_size=3,\n",
    "                                stride=1, padding=1, bias=False)\n",
    "        self.bn2 = nn.BatchNorm2d(planes)\n",
    "        self.shortcut = nn.Sequential()\n",
    "        if stride != 1 or in_planes != planes:\n",
    "            self.shortcut = nn.Sequential(\n",
    "                            nn.Conv2d(in_planes, planes,\n",
    "                            kernel_size=1, stride=stride, bias=False),\n",
    "                            nn.BatchNorm2d(planes)\n",
    "                            )\n",
    "    def forward(self, x):\n",
    "        out = F.relu(self.bn1(self.conv1(x)))\n",
    "        out = self.bn2(self.conv2(out))\n",
    "        out += self.shortcut(x)\n",
    "        out = F.relu(out)\n",
    "        return out"
   ]
  },
  {
   "cell_type": "code",
   "execution_count": 6,
   "metadata": {},
   "outputs": [],
   "source": [
    "class ResNet(nn.Module):\n",
    "    def __init__(self, num_classes=100):\n",
    "        super(ResNet, self).__init__()\n",
    "        self.in_planes = 16\n",
    "        self.conv1 = nn.Conv2d(3, 16, kernel_size=3, stride=1, padding=1, bias=False)\n",
    "        self.bn1 = nn.BatchNorm2d(16)\n",
    "        self.layer1 = self._make_layer(16, 2, stride=1)\n",
    "        self.layer2 = self._make_layer(64, 2, stride=2)\n",
    "        self.layer3 = self._make_layer(128, 2, stride=2)\n",
    "        self.linear = nn.Linear(128, num_classes)\n",
    "\n",
    "    def _make_layer(self, planes, num_blocks, stride):\n",
    "        strides = [stride] + [1]*(num_blocks-1)\n",
    "        layers = []\n",
    "        for stride in strides:\n",
    "            layers.append(BasicBlock(self.in_planes, planes, stride))\n",
    "            self.in_planes = planes\n",
    "        return nn.Sequential(*layers)\n",
    "    \n",
    "    def forward(self, x):\n",
    "        out = F.relu(self.bn1(self.conv1(x)))\n",
    "        out = self.layer1(out)\n",
    "        out = self.layer2(out)\n",
    "        out = self.layer3(out)\n",
    "        out = F.avg_pool2d(out, 8)\n",
    "        out = out.view(out.size(0), -1)\n",
    "        out = self.linear(out)\n",
    "        return out"
   ]
  },
  {
   "cell_type": "code",
   "execution_count": 7,
   "metadata": {},
   "outputs": [],
   "source": [
    "model = ResNet().to(DEVICE)\n",
    "optimizer = optim.SGD(model.parameters(), lr=0.1, momentum=0.9, weight_decay=0.0005)\n",
    "scheduler = optim.lr_scheduler.StepLR(optimizer, step_size=50, gamma=0.1)"
   ]
  },
  {
   "cell_type": "code",
   "execution_count": 8,
   "metadata": {},
   "outputs": [],
   "source": [
    "def train(model, train_loader, optimizer):\n",
    "    model.train()\n",
    "    for batch_idx, (data, target) in enumerate(train_loader):\n",
    "        data, target = data.to(DEVICE), target.to(DEVICE) # 학습 데이터를 DEVICE의 메모리로 보냄\n",
    "        optimizer.zero_grad()\n",
    "        output = model(data)\n",
    "        loss = F.cross_entropy(output, target)\n",
    "        loss.backward()\n",
    "        optimizer.step()"
   ]
  },
  {
   "cell_type": "code",
   "execution_count": 9,
   "metadata": {},
   "outputs": [],
   "source": [
    "def evaluate(model, test_loader):\n",
    "    model.eval()\n",
    "    test_loss = 0\n",
    "    correct = 0\n",
    "    with torch.no_grad():\n",
    "        for data, target in test_loader:\n",
    "            data, target = data.to(DEVICE), target.to(DEVICE)\n",
    "            output = model(data)\n",
    "\n",
    "            test_loss += F.cross_entropy(output, target, reduction='sum').item()\n",
    "            \n",
    "            pred = output.max(1, keepdim=True)[1]\n",
    "            correct += pred.eq(target.view_as(pred)).sum().item()\n",
    "    test_loss /= len(test_loader.dataset)\n",
    "    test_accuracy = 100. * correct / len(test_loader.dataset)\n",
    "    return test_loss, test_accuracy"
   ]
  },
  {
   "cell_type": "code",
   "execution_count": 10,
   "metadata": {},
   "outputs": [],
   "source": [
    "loss = []\n",
    "accuracy = []"
   ]
  },
  {
   "cell_type": "code",
   "execution_count": 11,
   "metadata": {},
   "outputs": [
    {
     "name": "stderr",
     "output_type": "stream",
     "text": [
      "c:\\Users\\sogno\\AppData\\Local\\Programs\\Python\\Python39\\lib\\site-packages\\torch\\optim\\lr_scheduler.py:224: UserWarning: Detected call of `lr_scheduler.step()` before `optimizer.step()`. In PyTorch 1.1.0 and later, you should call them in the opposite order: `optimizer.step()` before `lr_scheduler.step()`.  Failure to do this will result in PyTorch skipping the first value of the learning rate schedule. See more details at https://pytorch.org/docs/stable/optim.html#how-to-adjust-learning-rate\n",
      "  warnings.warn(\n"
     ]
    },
    {
     "name": "stdout",
     "output_type": "stream",
     "text": [
      "[1] Test Loss: 3.6497, Accuracy: 12.59%\n",
      "[2] Test Loss: 3.4399, Accuracy: 19.18%\n",
      "[3] Test Loss: 2.8551, Accuracy: 28.44%\n",
      "[4] Test Loss: 2.6923, Accuracy: 31.47%\n",
      "[5] Test Loss: 2.7307, Accuracy: 32.92%\n",
      "[6] Test Loss: 2.1923, Accuracy: 42.13%\n",
      "[7] Test Loss: 2.2099, Accuracy: 41.39%\n",
      "[8] Test Loss: 2.1462, Accuracy: 43.56%\n",
      "[9] Test Loss: 2.1358, Accuracy: 45.88%\n",
      "[10] Test Loss: 2.5280, Accuracy: 40.83%\n",
      "[11] Test Loss: 2.1824, Accuracy: 44.87%\n",
      "[12] Test Loss: 2.0812, Accuracy: 46.21%\n",
      "[13] Test Loss: 1.9783, Accuracy: 47.22%\n",
      "[14] Test Loss: 2.3096, Accuracy: 43.29%\n",
      "[15] Test Loss: 1.7793, Accuracy: 51.33%\n",
      "[16] Test Loss: 2.0813, Accuracy: 46.80%\n",
      "[17] Test Loss: 2.0258, Accuracy: 48.40%\n",
      "[18] Test Loss: 1.8474, Accuracy: 51.65%\n",
      "[19] Test Loss: 2.0908, Accuracy: 46.09%\n",
      "[20] Test Loss: 2.0099, Accuracy: 48.48%\n",
      "[21] Test Loss: 2.6286, Accuracy: 43.03%\n",
      "[22] Test Loss: 1.8039, Accuracy: 52.83%\n",
      "[23] Test Loss: 1.8524, Accuracy: 51.30%\n",
      "[24] Test Loss: 1.8446, Accuracy: 51.60%\n",
      "[25] Test Loss: 1.8299, Accuracy: 50.75%\n",
      "[26] Test Loss: 2.2634, Accuracy: 45.51%\n",
      "[27] Test Loss: 1.7978, Accuracy: 52.08%\n",
      "[28] Test Loss: 1.7911, Accuracy: 52.49%\n",
      "[29] Test Loss: 1.9761, Accuracy: 48.90%\n",
      "[30] Test Loss: 1.9993, Accuracy: 49.22%\n",
      "[31] Test Loss: 1.9292, Accuracy: 50.06%\n",
      "[32] Test Loss: 1.8919, Accuracy: 51.85%\n",
      "[33] Test Loss: 2.0500, Accuracy: 47.60%\n",
      "[34] Test Loss: 1.9846, Accuracy: 50.27%\n",
      "[35] Test Loss: 1.9388, Accuracy: 51.28%\n",
      "[36] Test Loss: 2.1891, Accuracy: 46.64%\n",
      "[37] Test Loss: 1.8639, Accuracy: 52.00%\n",
      "[38] Test Loss: 2.4838, Accuracy: 42.11%\n",
      "[39] Test Loss: 1.6961, Accuracy: 54.49%\n",
      "[40] Test Loss: 1.8668, Accuracy: 51.79%\n",
      "[41] Test Loss: 1.8434, Accuracy: 51.76%\n",
      "[42] Test Loss: 1.7575, Accuracy: 52.79%\n",
      "[43] Test Loss: 2.1348, Accuracy: 48.12%\n",
      "[44] Test Loss: 1.8575, Accuracy: 52.63%\n",
      "[45] Test Loss: 1.8423, Accuracy: 51.94%\n",
      "[46] Test Loss: 1.7246, Accuracy: 53.88%\n",
      "[47] Test Loss: 1.7882, Accuracy: 52.27%\n",
      "[48] Test Loss: 1.9637, Accuracy: 50.09%\n",
      "[49] Test Loss: 1.6915, Accuracy: 54.78%\n",
      "[50] Test Loss: 1.0846, Accuracy: 68.33%\n"
     ]
    }
   ],
   "source": [
    "for epoch in range(1, EPOCHS + 1):\n",
    "    scheduler.step()\n",
    "    train(model, train_loader, optimizer)\n",
    "    test_loss, test_accuracy= evaluate(model, test_loader)\n",
    "    loss.append(test_loss)\n",
    "    accuracy.append(test_accuracy)\n",
    "    \n",
    "    print('[{}] Test Loss: {:.4f}, Accuracy: {:.2f}%'.format(epoch, test_loss, test_accuracy))"
   ]
  },
  {
   "cell_type": "code",
   "execution_count": 12,
   "metadata": {},
   "outputs": [],
   "source": [
    "PATH = './.models/ResNet_Model.pt'"
   ]
  },
  {
   "cell_type": "code",
   "execution_count": 13,
   "metadata": {},
   "outputs": [],
   "source": [
    "torch.save(model.state_dict(), PATH)"
   ]
  },
  {
   "cell_type": "code",
   "execution_count": 14,
   "metadata": {},
   "outputs": [],
   "source": [
    "loss = np.array(loss)\n",
    "accuracy = np.array(accuracy)\n",
    "epochs = np.array([x for x in range(1, EPOCHS + 1)])"
   ]
  },
  {
   "cell_type": "code",
   "execution_count": 15,
   "metadata": {},
   "outputs": [],
   "source": [
    "df = pd.DataFrame({'epoch': epochs,\n",
    "                   'loss': loss,\n",
    "                   'accuracy': accuracy})\n",
    "df.to_csv(\".result/ResNet_result.csv\", index=False)"
   ]
  },
  {
   "cell_type": "code",
   "execution_count": 16,
   "metadata": {},
   "outputs": [
    {
     "data": {
      "text/plain": [
       "Text(0, 0.5, 'Accuracy')"
      ]
     },
     "execution_count": 16,
     "metadata": {},
     "output_type": "execute_result"
    },
    {
     "data": {
      "image/png": "[encoded data removed]",
      "text/plain": [
       "<Figure size 800x350 with 2 Axes>"
      ]
     },
     "metadata": {},
     "output_type": "display_data"
    }
   ],
   "source": [
    "fig, axs = plt.subplots(ncols=2, figsize=(8, 3.5), layout=\"constrained\")\n",
    "\n",
    "axs[0].plot(epochs, loss, c='g', linewidth=2)\n",
    "axs[0].set_title('ResNet Epoch : loss value')\n",
    "axs[0].set_xlabel('Epochs')\n",
    "axs[0].set_ylabel('loss')\n",
    "\n",
    "axs[1].plot(epochs, accuracy, c='r', linewidth=2)\n",
    "axs[1].set_title('ResNet Epoch : Accuracy value(%)')\n",
    "axs[1].set_xlabel('Epochs')\n",
    "axs[1].set_ylabel('Accuracy')"
   ]
  }
 ],
 "metadata": {
  "kernelspec": {
   "display_name": "Python 3",
   "language": "python",
   "name": "python3"
  },
  "language_info": {
   "codemirror_mode": {
    "name": "ipython",
    "version": 3
   },
   "file_extension": ".py",
   "mimetype": "text/x-python",
   "name": "python",
   "nbconvert_exporter": "python",
   "pygments_lexer": "ipython3",
   "version": "3.9.13"
  }
 },
 "nbformat": 4,
 "nbformat_minor": 2
}
