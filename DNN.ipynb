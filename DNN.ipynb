{
 "cells": [
  {
   "cell_type": "code",
   "execution_count": 21,
   "metadata": {},
   "outputs": [],
   "source": [
    "import torch\n",
    "import torch.nn as nn\n",
    "import torch.optim as optim\n",
    "import torch.nn.functional as F\n",
    "from torchvision import transforms, datasets\n",
    "\n",
    "import pandas as pd\n",
    "import numpy as np\n",
    "import matplotlib.pyplot as plt"
   ]
  },
  {
   "cell_type": "code",
   "execution_count": 22,
   "metadata": {},
   "outputs": [
    {
     "name": "stdout",
     "output_type": "stream",
     "text": [
      "cuda\n"
     ]
    }
   ],
   "source": [
    "USE_CUDA = torch.cuda.is_available()\n",
    "DEVICE = torch.device(\"cuda\" if USE_CUDA else \"cpu\")\n",
    "print(DEVICE)"
   ]
  },
  {
   "cell_type": "code",
   "execution_count": 23,
   "metadata": {},
   "outputs": [],
   "source": [
    "EPOCHS = 50\n",
    "BATCH_SIZE = 64"
   ]
  },
  {
   "cell_type": "code",
   "execution_count": 24,
   "metadata": {},
   "outputs": [
    {
     "name": "stdout",
     "output_type": "stream",
     "text": [
      "Files already downloaded and verified\n",
      "Files already downloaded and verified\n"
     ]
    }
   ],
   "source": [
    "transform = transforms.Compose(\n",
    "    [transforms.ToTensor()]\n",
    ")\n",
    "trainset = datasets.CIFAR100 (\n",
    "    root='.data/',\n",
    "    train=True,\n",
    "    download  = True,\n",
    "    transform = transform\n",
    ")\n",
    "testset = datasets.CIFAR100 (\n",
    "    root='.data/',\n",
    "    train=False,\n",
    "    download  = True,\n",
    "    transform = transform\n",
    ")"
   ]
  },
  {
   "cell_type": "code",
   "execution_count": 25,
   "metadata": {},
   "outputs": [],
   "source": [
    "train_loader = torch.utils.data.DataLoader(\n",
    "    dataset= trainset,\n",
    "    batch_size=BATCH_SIZE,\n",
    "    shuffle=True,\n",
    ")\n",
    "test_loader = torch.utils.data.DataLoader(\n",
    "    dataset     = testset,\n",
    "    batch_size  = BATCH_SIZE,\n",
    "    shuffle     = True,\n",
    ")"
   ]
  },
  {
   "cell_type": "code",
   "execution_count": 26,
   "metadata": {},
   "outputs": [],
   "source": [
    "class Net(nn.Module):\n",
    "    def __init__(self):\n",
    "        super(Net, self).__init__()\n",
    "        self.fc1 = nn.Linear(3072, 784)\n",
    "        self.fc2 = nn.Linear(784, 256)\n",
    "        self.fc3 = nn.Linear(256, 100)\n",
    "\n",
    "    def forward(self, x):\n",
    "        x = x.view(-1, 3072)\n",
    "        x = F.relu(self.fc1(x))\n",
    "        x = F.relu(self.fc2(x))\n",
    "        x = self.fc3(x)\n",
    "        return x\n"
   ]
  },
  {
   "cell_type": "code",
   "execution_count": 27,
   "metadata": {},
   "outputs": [],
   "source": [
    "model = Net().to(DEVICE)\n",
    "optimizer = optim.SGD(model.parameters(), lr=0.01)"
   ]
  },
  {
   "cell_type": "code",
   "execution_count": 28,
   "metadata": {},
   "outputs": [],
   "source": [
    "def train(model, train_loader, optimizer):\n",
    "    model.train()\n",
    "    for batch_idx, (data, target) in enumerate(train_loader):\n",
    "        data, target = data.to(DEVICE), target.to(DEVICE)\n",
    "        optimizer.zero_grad()\n",
    "        output = model(data)\n",
    "        loss = F.cross_entropy(output, target)\n",
    "        loss.backward()\n",
    "        optimizer.step()"
   ]
  },
  {
   "cell_type": "code",
   "execution_count": 29,
   "metadata": {},
   "outputs": [],
   "source": [
    "def evaluate(model, test_loader):\n",
    "    model.eval()\n",
    "    test_loss = 0\n",
    "    correct = 0\n",
    "    with torch.no_grad():\n",
    "        for data, target in test_loader:\n",
    "            data, target = data.to(DEVICE), target.to(DEVICE)\n",
    "            output = model(data)\n",
    "\n",
    "            # 모든 오차 더하기\n",
    "            test_loss += F.cross_entropy(output, target, reduction='sum').item()\n",
    "            \n",
    "            # 가장 큰 값을 가진 클래스가 모델의 예측입니다.\n",
    "            # 예측과 정답을 비교하여 일치할 경우 correct에 1을 더합니다.\n",
    "            pred = output.max(1, keepdim=True)[1]\n",
    "            correct += pred.eq(target.view_as(pred)).sum().item()\n",
    "\n",
    "    test_loss /= len(test_loader.dataset)\n",
    "    test_accuracy = 100. * correct / len(test_loader.dataset)\n",
    "    return test_loss, test_accuracy\n"
   ]
  },
  {
   "cell_type": "code",
   "execution_count": 30,
   "metadata": {},
   "outputs": [],
   "source": [
    "loss = []\n",
    "accuracy = []"
   ]
  },
  {
   "cell_type": "code",
   "execution_count": 31,
   "metadata": {},
   "outputs": [
    {
     "name": "stdout",
     "output_type": "stream",
     "text": [
      "[1] Test Loss: 4.5153, Accuracy: 3.67%\n",
      "[2] Test Loss: 4.2085, Accuracy: 7.11%\n",
      "[3] Test Loss: 4.0772, Accuracy: 7.88%\n",
      "[4] Test Loss: 4.0128, Accuracy: 8.49%\n",
      "[5] Test Loss: 3.9014, Accuracy: 11.38%\n",
      "[6] Test Loss: 3.8421, Accuracy: 12.29%\n",
      "[7] Test Loss: 3.7877, Accuracy: 13.23%\n",
      "[8] Test Loss: 3.7623, Accuracy: 13.06%\n",
      "[9] Test Loss: 3.7055, Accuracy: 14.50%\n",
      "[10] Test Loss: 3.6697, Accuracy: 15.15%\n",
      "[11] Test Loss: 3.6446, Accuracy: 15.71%\n",
      "[12] Test Loss: 3.6139, Accuracy: 16.27%\n",
      "[13] Test Loss: 3.5920, Accuracy: 16.35%\n",
      "[14] Test Loss: 3.5634, Accuracy: 17.22%\n",
      "[15] Test Loss: 3.5662, Accuracy: 17.16%\n",
      "[16] Test Loss: 3.5373, Accuracy: 18.10%\n",
      "[17] Test Loss: 3.5432, Accuracy: 17.23%\n",
      "[18] Test Loss: 3.4929, Accuracy: 18.15%\n",
      "[19] Test Loss: 3.4758, Accuracy: 18.84%\n",
      "[20] Test Loss: 3.4881, Accuracy: 18.09%\n",
      "[21] Test Loss: 3.4424, Accuracy: 19.21%\n",
      "[22] Test Loss: 3.4159, Accuracy: 19.89%\n",
      "[23] Test Loss: 3.4275, Accuracy: 20.12%\n",
      "[24] Test Loss: 3.4297, Accuracy: 19.69%\n",
      "[25] Test Loss: 3.4035, Accuracy: 20.28%\n",
      "[26] Test Loss: 3.3752, Accuracy: 20.35%\n",
      "[27] Test Loss: 3.3560, Accuracy: 21.27%\n",
      "[28] Test Loss: 3.3592, Accuracy: 20.37%\n",
      "[29] Test Loss: 3.3252, Accuracy: 20.95%\n",
      "[30] Test Loss: 3.3117, Accuracy: 21.67%\n",
      "[31] Test Loss: 3.3121, Accuracy: 21.77%\n",
      "[32] Test Loss: 3.3222, Accuracy: 21.43%\n",
      "[33] Test Loss: 3.2676, Accuracy: 22.92%\n",
      "[34] Test Loss: 3.2960, Accuracy: 21.76%\n",
      "[35] Test Loss: 3.2780, Accuracy: 22.30%\n",
      "[36] Test Loss: 3.2660, Accuracy: 22.67%\n",
      "[37] Test Loss: 3.2588, Accuracy: 22.81%\n",
      "[38] Test Loss: 3.2840, Accuracy: 22.28%\n",
      "[39] Test Loss: 3.2493, Accuracy: 22.58%\n",
      "[40] Test Loss: 3.3177, Accuracy: 21.45%\n",
      "[41] Test Loss: 3.3219, Accuracy: 21.59%\n",
      "[42] Test Loss: 3.2565, Accuracy: 23.23%\n",
      "[43] Test Loss: 3.2967, Accuracy: 22.14%\n",
      "[44] Test Loss: 3.2305, Accuracy: 23.30%\n",
      "[45] Test Loss: 3.2549, Accuracy: 23.16%\n",
      "[46] Test Loss: 3.2785, Accuracy: 23.07%\n",
      "[47] Test Loss: 3.2646, Accuracy: 22.81%\n",
      "[48] Test Loss: 3.1731, Accuracy: 24.50%\n",
      "[49] Test Loss: 3.2230, Accuracy: 24.10%\n",
      "[50] Test Loss: 3.2767, Accuracy: 23.05%\n"
     ]
    }
   ],
   "source": [
    "for epoch in range(1, EPOCHS+1):\n",
    "    train(model, train_loader, optimizer)\n",
    "    test_loss, test_accuracy = evaluate(model, test_loader)\n",
    "    loss.append(test_loss)\n",
    "    accuracy.append(test_accuracy)\n",
    "\n",
    "    print('[{}] Test Loss: {:.4f}, Accuracy: {:.2f}%'.format(epoch, test_loss, test_accuracy))"
   ]
  },
  {
   "cell_type": "code",
   "execution_count": 32,
   "metadata": {},
   "outputs": [],
   "source": [
    "PATH = './.models/DNN_Model.pt'"
   ]
  },
  {
   "cell_type": "code",
   "execution_count": 33,
   "metadata": {},
   "outputs": [],
   "source": [
    "# saving model\n",
    "torch.save(model.state_dict(), PATH)"
   ]
  },
  {
   "cell_type": "code",
   "execution_count": 34,
   "metadata": {},
   "outputs": [
    {
     "name": "stdout",
     "output_type": "stream",
     "text": [
      "[4.51529102859497, 4.2085203948974605, 4.0771524040222165, 4.012838562011718, 3.901380084228516, 3.8421032157897947, 3.7877347770690917, 3.762313816833496, 3.705471928024292, 3.669711944580078, 3.644649810409546, 3.6138675952911377, 3.5919761360168456, 3.563356051635742, 3.566159656524658, 3.5372934627532957, 3.5432401943206786, 3.492866879272461, 3.475754800415039, 3.4880952033996584, 3.4423693313598633, 3.4158617652893066, 3.427547585296631, 3.429698875427246, 3.4034695156097414, 3.3751921154022217, 3.3560361030578614, 3.3591995151519773, 3.3251876037597654, 3.311698302078247, 3.3121246627807617, 3.3221975635528564, 3.2675737056732177, 3.29601081199646, 3.27797653503418, 3.265970623779297, 3.258792682266235, 3.2840429344177244, 3.2492514362335205, 3.3177065013885496, 3.3218946475982665, 3.256509725189209, 3.2967486289978027, 3.230488187789917, 3.2548710960388183, 3.278485707092285, 3.26455599899292, 3.1730505016326904, 3.222980643081665, 3.2766635845184324]\n"
     ]
    }
   ],
   "source": [
    "print(loss)"
   ]
  },
  {
   "cell_type": "code",
   "execution_count": 35,
   "metadata": {},
   "outputs": [
    {
     "name": "stdout",
     "output_type": "stream",
     "text": [
      "[3.67, 7.11, 7.88, 8.49, 11.38, 12.29, 13.23, 13.06, 14.5, 15.15, 15.71, 16.27, 16.35, 17.22, 17.16, 18.1, 17.23, 18.15, 18.84, 18.09, 19.21, 19.89, 20.12, 19.69, 20.28, 20.35, 21.27, 20.37, 20.95, 21.67, 21.77, 21.43, 22.92, 21.76, 22.3, 22.67, 22.81, 22.28, 22.58, 21.45, 21.59, 23.23, 22.14, 23.3, 23.16, 23.07, 22.81, 24.5, 24.1, 23.05]\n"
     ]
    }
   ],
   "source": [
    "print(accuracy)"
   ]
  },
  {
   "cell_type": "code",
   "execution_count": 36,
   "metadata": {},
   "outputs": [
    {
     "name": "stdout",
     "output_type": "stream",
     "text": [
      "[4.51529103 4.20852039 4.0771524  4.01283856 3.90138008 3.84210322\n",
      " 3.78773478 3.76231382 3.70547193 3.66971194 3.64464981 3.6138676\n",
      " 3.59197614 3.56335605 3.56615966 3.53729346 3.54324019 3.49286688\n",
      " 3.4757548  3.4880952  3.44236933 3.41586177 3.42754759 3.42969888\n",
      " 3.40346952 3.37519212 3.3560361  3.35919952 3.3251876  3.3116983\n",
      " 3.31212466 3.32219756 3.26757371 3.29601081 3.27797654 3.26597062\n",
      " 3.25879268 3.28404293 3.24925144 3.3177065  3.32189465 3.25650973\n",
      " 3.29674863 3.23048819 3.2548711  3.27848571 3.264556   3.1730505\n",
      " 3.22298064 3.27666358]\n",
      "[ 3.67  7.11  7.88  8.49 11.38 12.29 13.23 13.06 14.5  15.15 15.71 16.27\n",
      " 16.35 17.22 17.16 18.1  17.23 18.15 18.84 18.09 19.21 19.89 20.12 19.69\n",
      " 20.28 20.35 21.27 20.37 20.95 21.67 21.77 21.43 22.92 21.76 22.3  22.67\n",
      " 22.81 22.28 22.58 21.45 21.59 23.23 22.14 23.3  23.16 23.07 22.81 24.5\n",
      " 24.1  23.05]\n"
     ]
    }
   ],
   "source": [
    "loss = np.array(loss)\n",
    "print(loss)\n",
    "accuracy = np.array(accuracy)\n",
    "print(accuracy)\n",
    "epochs = np.array([x for x in range(1, EPOCHS + 1)])"
   ]
  },
  {
   "cell_type": "code",
   "execution_count": 37,
   "metadata": {},
   "outputs": [],
   "source": [
    "df = pd.DataFrame({'epoch': epochs,\n",
    "                   'loss': loss,\n",
    "                   'accuracy': accuracy})\n",
    "df.to_csv(\".result/DNN_result.csv\", index=False)"
   ]
  },
  {
   "cell_type": "code",
   "execution_count": 39,
   "metadata": {},
   "outputs": [
    {
     "data": {
      "text/plain": [
       "Text(0, 0.5, 'Accuracy')"
      ]
     },
     "execution_count": 39,
     "metadata": {},
     "output_type": "execute_result"
    },
    {
     "data": {
      "image/png": "[encoded data removed]",
      "text/plain": [
       "<Figure size 800x350 with 2 Axes>"
      ]
     },
     "metadata": {},
     "output_type": "display_data"
    }
   ],
   "source": [
    "fig, axs = plt.subplots(ncols=2, figsize=(8, 3.5), layout=\"constrained\")\n",
    "\n",
    "axs[0].plot(epochs, loss, c='g', linewidth=2)\n",
    "axs[0].set_title('DNN Epoch : loss value')\n",
    "axs[0].set_xlabel('Epochs')\n",
    "axs[0].set_ylabel('loss')\n",
    "\n",
    "axs[1].plot(epochs, accuracy, c='r', linewidth=2)\n",
    "axs[1].set_title('DNN Epoch : Accuracy value(%)')\n",
    "axs[1].set_xlabel('Epochs')\n",
    "axs[1].set_ylabel('Accuracy')"
   ]
  }
 ],
 "metadata": {
  "kernelspec": {
   "display_name": "Python 3",
   "language": "python",
   "name": "python3"
  },
  "language_info": {
   "codemirror_mode": {
    "name": "ipython",
    "version": 3
   },
   "file_extension": ".py",
   "mimetype": "text/x-python",
   "name": "python",
   "nbconvert_exporter": "python",
   "pygments_lexer": "ipython3",
   "version": "3.9.13"
  }
 },
 "nbformat": 4,
 "nbformat_minor": 2
}
