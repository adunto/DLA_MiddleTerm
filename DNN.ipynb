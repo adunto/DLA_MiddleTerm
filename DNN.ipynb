{
 "cells": [
  {
   "cell_type": "code",
   "execution_count": 1,
   "metadata": {},
   "outputs": [
    {
     "name": "stderr",
     "output_type": "stream",
     "text": [
      "C:\\Users\\Owner\\AppData\\Local\\Temp\\ipykernel_25216\\2050497356.py:7: DeprecationWarning: \n",
      "Pyarrow will become a required dependency of pandas in the next major release of pandas (pandas 3.0),\n",
      "(to allow more performant data types, such as the Arrow string type, and better interoperability with other libraries)\n",
      "but was not found to be installed on your system.\n",
      "If this would cause problems for you,\n",
      "please provide us feedback at https://github.com/pandas-dev/pandas/issues/54466\n",
      "        \n",
      "  import pandas as pd\n"
     ]
    }
   ],
   "source": [
    "import torch\n",
    "import torch.nn as nn\n",
    "import torch.optim as optim\n",
    "import torch.nn.functional as F\n",
    "from torchvision import transforms, datasets\n",
    "\n",
    "import pandas as pd\n",
    "import numpy as np\n",
    "import matplotlib.pyplot as plt"
   ]
  },
  {
   "cell_type": "code",
   "execution_count": 2,
   "metadata": {},
   "outputs": [
    {
     "name": "stdout",
     "output_type": "stream",
     "text": [
      "cuda\n"
     ]
    }
   ],
   "source": [
    "USE_CUDA = torch.cuda.is_available()\n",
    "DEVICE = torch.device(\"cuda\" if USE_CUDA else \"cpu\")\n",
    "print(DEVICE)"
   ]
  },
  {
   "cell_type": "code",
   "execution_count": 3,
   "metadata": {},
   "outputs": [],
   "source": [
    "EPOCHS = 50\n",
    "BATCH_SIZE = 64"
   ]
  },
  {
   "cell_type": "code",
   "execution_count": 4,
   "metadata": {},
   "outputs": [
    {
     "name": "stdout",
     "output_type": "stream",
     "text": [
      "Files already downloaded and verified\n",
      "Files already downloaded and verified\n"
     ]
    }
   ],
   "source": [
    "transform = transforms.Compose(\n",
    "    [transforms.ToTensor()]\n",
    ")\n",
    "trainset = datasets.CIFAR100 (\n",
    "    root='.data/',\n",
    "    train=True,\n",
    "    download  = True,\n",
    "    transform = transform\n",
    ")\n",
    "testset = datasets.CIFAR100 (\n",
    "    root='.data/',\n",
    "    train=False,\n",
    "    download  = True,\n",
    "    transform = transform\n",
    ")"
   ]
  },
  {
   "cell_type": "code",
   "execution_count": 5,
   "metadata": {},
   "outputs": [],
   "source": [
    "train_loader = torch.utils.data.DataLoader(\n",
    "    dataset= trainset,\n",
    "    batch_size=BATCH_SIZE,\n",
    "    shuffle=True,\n",
    ")\n",
    "test_loader = torch.utils.data.DataLoader(\n",
    "    dataset     = testset,\n",
    "    batch_size  = BATCH_SIZE,\n",
    "    shuffle     = True,\n",
    ")"
   ]
  },
  {
   "cell_type": "code",
   "execution_count": 6,
   "metadata": {},
   "outputs": [],
   "source": [
    "class Net(nn.Module):\n",
    "    def __init__(self):\n",
    "        super(Net, self).__init__()\n",
    "        self.fc1 = nn.Linear(3072, 784)\n",
    "        self.fc2 = nn.Linear(784, 256)\n",
    "        self.fc3 = nn.Linear(256, 100)\n",
    "\n",
    "    def forward(self, x):\n",
    "        x = x.view(-1, 3072)\n",
    "        x = F.relu(self.fc1(x))\n",
    "        x = F.relu(self.fc2(x))\n",
    "        x = self.fc3(x)\n",
    "        return x\n"
   ]
  },
  {
   "cell_type": "code",
   "execution_count": 7,
   "metadata": {},
   "outputs": [],
   "source": [
    "model = Net().to(DEVICE)\n",
    "optimizer = optim.SGD(model.parameters(), lr=0.01)"
   ]
  },
  {
   "cell_type": "code",
   "execution_count": 8,
   "metadata": {},
   "outputs": [],
   "source": [
    "def train(model, train_loader, optimizer):\n",
    "    model.train()\n",
    "    for batch_idx, (data, target) in enumerate(train_loader):\n",
    "        data, target = data.to(DEVICE), target.to(DEVICE)\n",
    "        optimizer.zero_grad()\n",
    "        output = model(data)\n",
    "        loss = F.cross_entropy(output, target)\n",
    "        loss.backward()\n",
    "        optimizer.step()"
   ]
  },
  {
   "cell_type": "code",
   "execution_count": 9,
   "metadata": {},
   "outputs": [],
   "source": [
    "def evaluate(model, test_loader):\n",
    "    model.eval()\n",
    "    test_loss = 0\n",
    "    correct = 0\n",
    "    with torch.no_grad():\n",
    "        for data, target in test_loader:\n",
    "            data, target = data.to(DEVICE), target.to(DEVICE)\n",
    "            output = model(data)\n",
    "\n",
    "            # 모든 오차 더하기\n",
    "            test_loss += F.cross_entropy(output, target, reduction='sum').item()\n",
    "            \n",
    "            # 가장 큰 값을 가진 클래스가 모델의 예측입니다.\n",
    "            # 예측과 정답을 비교하여 일치할 경우 correct에 1을 더합니다.\n",
    "            pred = output.max(1, keepdim=True)[1]\n",
    "            correct += pred.eq(target.view_as(pred)).sum().item()\n",
    "\n",
    "    test_loss /= len(test_loader.dataset)\n",
    "    test_accuracy = 100. * correct / len(test_loader.dataset)\n",
    "    return test_loss, test_accuracy\n"
   ]
  },
  {
   "cell_type": "code",
   "execution_count": 10,
   "metadata": {},
   "outputs": [],
   "source": [
    "loss = []\n",
    "accuracy = []"
   ]
  },
  {
   "cell_type": "code",
   "execution_count": 11,
   "metadata": {},
   "outputs": [
    {
     "name": "stdout",
     "output_type": "stream",
     "text": [
      "[1] Test Loss: 4.5152, Accuracy: 3.36%\n",
      "[2] Test Loss: 4.1983, Accuracy: 6.42%\n",
      "[3] Test Loss: 4.0684, Accuracy: 7.95%\n",
      "[4] Test Loss: 3.9966, Accuracy: 9.13%\n",
      "[5] Test Loss: 3.9117, Accuracy: 10.12%\n",
      "[6] Test Loss: 3.8455, Accuracy: 11.24%\n",
      "[7] Test Loss: 3.7845, Accuracy: 13.12%\n",
      "[8] Test Loss: 3.7483, Accuracy: 13.73%\n",
      "[9] Test Loss: 3.7305, Accuracy: 14.20%\n",
      "[10] Test Loss: 3.6830, Accuracy: 14.60%\n",
      "[11] Test Loss: 3.6881, Accuracy: 14.97%\n",
      "[12] Test Loss: 3.6741, Accuracy: 15.03%\n",
      "[13] Test Loss: 3.5924, Accuracy: 16.56%\n",
      "[14] Test Loss: 3.5694, Accuracy: 17.19%\n",
      "[15] Test Loss: 3.5656, Accuracy: 17.41%\n",
      "[16] Test Loss: 3.5442, Accuracy: 17.04%\n",
      "[17] Test Loss: 3.5041, Accuracy: 18.45%\n",
      "[18] Test Loss: 3.5074, Accuracy: 17.88%\n",
      "[19] Test Loss: 3.4677, Accuracy: 18.42%\n",
      "[20] Test Loss: 3.5072, Accuracy: 17.71%\n",
      "[21] Test Loss: 3.4445, Accuracy: 18.87%\n",
      "[22] Test Loss: 3.4350, Accuracy: 19.39%\n",
      "[23] Test Loss: 3.5062, Accuracy: 17.98%\n",
      "[24] Test Loss: 3.3967, Accuracy: 20.12%\n",
      "[25] Test Loss: 3.3993, Accuracy: 20.03%\n",
      "[26] Test Loss: 3.4666, Accuracy: 18.94%\n",
      "[27] Test Loss: 3.3472, Accuracy: 21.14%\n",
      "[28] Test Loss: 3.3358, Accuracy: 21.18%\n",
      "[29] Test Loss: 3.3193, Accuracy: 21.48%\n",
      "[30] Test Loss: 3.3140, Accuracy: 21.27%\n",
      "[31] Test Loss: 3.3515, Accuracy: 21.20%\n",
      "[32] Test Loss: 3.3475, Accuracy: 21.19%\n",
      "[33] Test Loss: 3.2666, Accuracy: 22.64%\n",
      "[34] Test Loss: 3.2856, Accuracy: 22.26%\n",
      "[35] Test Loss: 3.2976, Accuracy: 21.77%\n",
      "[36] Test Loss: 3.2544, Accuracy: 22.87%\n",
      "[37] Test Loss: 3.3119, Accuracy: 21.84%\n",
      "[38] Test Loss: 3.2683, Accuracy: 23.18%\n",
      "[39] Test Loss: 3.2512, Accuracy: 23.08%\n",
      "[40] Test Loss: 3.3045, Accuracy: 22.25%\n",
      "[41] Test Loss: 3.2449, Accuracy: 23.15%\n",
      "[42] Test Loss: 3.1989, Accuracy: 23.82%\n",
      "[43] Test Loss: 3.2059, Accuracy: 24.05%\n",
      "[44] Test Loss: 3.2891, Accuracy: 22.43%\n",
      "[45] Test Loss: 3.2238, Accuracy: 23.45%\n",
      "[46] Test Loss: 3.1704, Accuracy: 24.46%\n",
      "[47] Test Loss: 3.1786, Accuracy: 24.52%\n",
      "[48] Test Loss: 3.2194, Accuracy: 23.38%\n",
      "[49] Test Loss: 3.1930, Accuracy: 23.96%\n",
      "[50] Test Loss: 3.2642, Accuracy: 22.52%\n"
     ]
    }
   ],
   "source": [
    "for epoch in range(1, EPOCHS+1):\n",
    "    train(model, train_loader, optimizer)\n",
    "    test_loss, test_accuracy = evaluate(model, test_loader)\n",
    "    loss.append(test_loss)\n",
    "    accuracy.append(test_accuracy)\n",
    "\n",
    "    print('[{}] Test Loss: {:.4f}, Accuracy: {:.2f}%'.format(epoch, test_loss, test_accuracy))"
   ]
  },
  {
   "cell_type": "code",
   "execution_count": null,
   "metadata": {},
   "outputs": [],
   "source": [
    "PATH = './Models/DNN_Model.pt'"
   ]
  },
  {
   "cell_type": "code",
   "execution_count": null,
   "metadata": {},
   "outputs": [],
   "source": [
    "# saving model\n",
    "torch.save(model.state_dict(), PATH)"
   ]
  },
  {
   "cell_type": "code",
   "execution_count": 12,
   "metadata": {},
   "outputs": [
    {
     "name": "stdout",
     "output_type": "stream",
     "text": [
      "[4.515238960266113, 4.198252668762207, 4.068373318862915, 3.996616616821289, 3.9117334045410157, 3.8454805572509767, 3.784513235092163, 3.748307009887695, 3.7305477752685547, 3.6830339385986326, 3.6880550605773927, 3.6741380554199217, 3.5923541320800783, 3.569434433364868, 3.565601212310791, 3.544244609451294, 3.50406332321167, 3.507424169921875, 3.467658093261719, 3.5071711521148683, 3.4444969959259035, 3.4350394401550295, 3.5062126358032226, 3.3966974369049074, 3.3993196243286135, 3.466556479644775, 3.3472121829986574, 3.335801985168457, 3.3193006996154786, 3.313952363204956, 3.3515170684814453, 3.347539009094238, 3.2665933917999266, 3.285623384475708, 3.2976143608093262, 3.25436176071167, 3.3118615600585937, 3.2683246215820314, 3.251205506134033, 3.30453829498291, 3.244930459213257, 3.1989149879455567, 3.2059342929840087, 3.289058997344971, 3.223775109100342, 3.1703859199523925, 3.178611241912842, 3.2194457111358643, 3.192955055999756, 3.2642459712982177]\n"
     ]
    }
   ],
   "source": [
    "print(loss)"
   ]
  },
  {
   "cell_type": "code",
   "execution_count": 13,
   "metadata": {},
   "outputs": [
    {
     "name": "stdout",
     "output_type": "stream",
     "text": [
      "[3.36, 6.42, 7.95, 9.13, 10.12, 11.24, 13.12, 13.73, 14.2, 14.6, 14.97, 15.03, 16.56, 17.19, 17.41, 17.04, 18.45, 17.88, 18.42, 17.71, 18.87, 19.39, 17.98, 20.12, 20.03, 18.94, 21.14, 21.18, 21.48, 21.27, 21.2, 21.19, 22.64, 22.26, 21.77, 22.87, 21.84, 23.18, 23.08, 22.25, 23.15, 23.82, 24.05, 22.43, 23.45, 24.46, 24.52, 23.38, 23.96, 22.52]\n"
     ]
    }
   ],
   "source": [
    "print(accuracy)"
   ]
  },
  {
   "cell_type": "code",
   "execution_count": 21,
   "metadata": {},
   "outputs": [
    {
     "name": "stdout",
     "output_type": "stream",
     "text": [
      "[4.51523896 4.19825267 4.06837332 3.99661662 3.9117334  3.84548056\n",
      " 3.78451324 3.74830701 3.73054778 3.68303394 3.68805506 3.67413806\n",
      " 3.59235413 3.56943443 3.56560121 3.54424461 3.50406332 3.50742417\n",
      " 3.46765809 3.50717115 3.444497   3.43503944 3.50621264 3.39669744\n",
      " 3.39931962 3.46655648 3.34721218 3.33580199 3.3193007  3.31395236\n",
      " 3.35151707 3.34753901 3.26659339 3.28562338 3.29761436 3.25436176\n",
      " 3.31186156 3.26832462 3.25120551 3.30453829 3.24493046 3.19891499\n",
      " 3.20593429 3.289059   3.22377511 3.17038592 3.17861124 3.21944571\n",
      " 3.19295506 3.26424597]\n",
      "[ 3.36  6.42  7.95  9.13 10.12 11.24 13.12 13.73 14.2  14.6  14.97 15.03\n",
      " 16.56 17.19 17.41 17.04 18.45 17.88 18.42 17.71 18.87 19.39 17.98 20.12\n",
      " 20.03 18.94 21.14 21.18 21.48 21.27 21.2  21.19 22.64 22.26 21.77 22.87\n",
      " 21.84 23.18 23.08 22.25 23.15 23.82 24.05 22.43 23.45 24.46 24.52 23.38\n",
      " 23.96 22.52]\n"
     ]
    }
   ],
   "source": [
    "loss = np.array(loss)\n",
    "print(loss)\n",
    "accuracy = np.array(accuracy)\n",
    "print(accuracy)\n",
    "epochs = np.array([x for x in range(1, EPOCHS + 1)])"
   ]
  },
  {
   "cell_type": "code",
   "execution_count": 37,
   "metadata": {},
   "outputs": [
    {
     "data": {
      "text/plain": [
       "Text(0, 0.5, 'Accuracy')"
      ]
     },
     "execution_count": 37,
     "metadata": {},
     "output_type": "execute_result"
    },
    {
     "data": {
      "image/png": "[encoded data removed]",
      "text/plain": [
       "<Figure size 800x350 with 2 Axes>"
      ]
     },
     "metadata": {},
     "output_type": "display_data"
    }
   ],
   "source": [
    "fig, axs = plt.subplots(ncols=2, figsize=(8, 3.5), layout=\"constrained\")\n",
    "\n",
    "axs[0].plot(epochs, loss, c='g', linewidth=2)\n",
    "axs[0].set_title('Epoch : loss value')\n",
    "axs[0].set_xlabel('Epochs')\n",
    "axs[0].set_ylabel('loss')\n",
    "\n",
    "axs[1].plot(epochs, accuracy, c='r', linewidth=2)\n",
    "axs[1].set_title('Epoch : Accuracy value(%)')\n",
    "axs[1].set_xlabel('Epochs')\n",
    "axs[1].set_ylabel('Accuracy')"
   ]
  }
 ],
 "metadata": {
  "kernelspec": {
   "display_name": "DLEnv",
   "language": "python",
   "name": "python3"
  },
  "language_info": {
   "codemirror_mode": {
    "name": "ipython",
    "version": 3
   },
   "file_extension": ".py",
   "mimetype": "text/x-python",
   "name": "python",
   "nbconvert_exporter": "python",
   "pygments_lexer": "ipython3",
   "version": "3.11.0"
  }
 },
 "nbformat": 4,
 "nbformat_minor": 2
}
