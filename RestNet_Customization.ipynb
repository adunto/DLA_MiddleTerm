{
 "cells": [
  {
   "cell_type": "code",
   "execution_count": 1,
   "metadata": {},
   "outputs": [],
   "source": [
    "import torch\n",
    "import torch.nn as nn\n",
    "import torch.optim as optim\n",
    "import torch.nn.functional as F\n",
    "from torchvision import transforms, datasets, models\n",
    "\n",
    "from lib import calculate_normalize as CalNorm\n",
    "\n",
    "import pandas as pd\n",
    "import numpy as np\n",
    "import matplotlib.pyplot as plt"
   ]
  },
  {
   "cell_type": "code",
   "execution_count": 2,
   "metadata": {},
   "outputs": [
    {
     "name": "stdout",
     "output_type": "stream",
     "text": [
      "cuda\n"
     ]
    }
   ],
   "source": [
    "USE_CUDA = torch.cuda.is_available()\n",
    "DEVICE = torch.device(\"cuda\" if USE_CUDA else \"cpu\")\n",
    "print(DEVICE)"
   ]
  },
  {
   "cell_type": "code",
   "execution_count": 3,
   "metadata": {},
   "outputs": [],
   "source": [
    "EPOCHS = 50\n",
    "BATCH_SIZE = 128"
   ]
  },
  {
   "cell_type": "code",
   "execution_count": null,
   "metadata": {},
   "outputs": [
    {
     "name": "stdout",
     "output_type": "stream",
     "text": [
      "Files already downloaded and verified\n",
      "Files already downloaded and verified\n",
      "mean = (0.50707513, 0.48654887, 0.44091785)\n",
      "std = (0.20079845, 0.19834627, 0.20219834)\n"
     ]
    }
   ],
   "source": [
    "# 데이터셋에서 평균과 표준편차를 구하는 lib.py 작성\n",
    "trainset = datasets.CIFAR100('./.data',\n",
    "                             train=True,\n",
    "                             download=True,\n",
    "                             transform=transforms.Compose([\n",
    "                                 transforms.ToTensor()\n",
    "                             ]))\n",
    "\n",
    "testset = datasets.CIFAR100('./.data',\n",
    "                             train=False,\n",
    "                             download=True,\n",
    "                             transform=transforms.Compose([\n",
    "                                 transforms.ToTensor()\n",
    "                             ]))\n",
    "\n",
    "# lib.py -> calculate_normalize()\n",
    "mean_, std_ = CalNorm(trainset)\n",
    "print(\"mean = {}\\nstd = {}\".format(mean_, std_))"
   ]
  },
  {
   "cell_type": "code",
   "execution_count": 5,
   "metadata": {},
   "outputs": [
    {
     "name": "stdout",
     "output_type": "stream",
     "text": [
      "Files already downloaded and verified\n"
     ]
    }
   ],
   "source": [
    "train_loader = torch.utils.data.DataLoader(\n",
    "    datasets.CIFAR100('./.data',\n",
    "                    train=True,\n",
    "                    download=True,\n",
    "                    transform=transforms.Compose([\n",
    "                    transforms.RandomCrop(32, padding=4),\n",
    "                    transforms.RandomHorizontalFlip(),\n",
    "                    transforms.ToTensor(),\n",
    "                    transforms.Normalize(mean_, std_)])),\n",
    "    batch_size=BATCH_SIZE, shuffle=True)\n",
    "\n",
    "test_loader = torch.utils.data.DataLoader(\n",
    "    datasets.CIFAR100('./.data',\n",
    "                    train=False, \n",
    "                    transform=transforms.Compose([\n",
    "                        transforms.ToTensor(),\n",
    "                        transforms.Normalize(mean_, std_)])),\n",
    "    batch_size=BATCH_SIZE, shuffle=True)"
   ]
  },
  {
   "cell_type": "code",
   "execution_count": null,
   "metadata": {},
   "outputs": [],
   "source": [
    "# 기존의 2개의 블럭 계산 후 초기값을 + 하는 과정은 수정하지 않았습니다.\n",
    "class BasicBlock(nn.Module):\n",
    "    def __init__(self, in_planes, planes, stride=1):\n",
    "        super(BasicBlock, self).__init__()\n",
    "        self.conv1 = nn.Conv2d(in_planes, planes, kernel_size=3,\n",
    "                                stride=stride, padding=1, bias=False)\n",
    "        self.bn1 = nn.BatchNorm2d(planes)\n",
    "        self.conv2 = nn.Conv2d(planes, planes, kernel_size=3,\n",
    "                                stride=1, padding=1, bias=False)\n",
    "        self.bn2 = nn.BatchNorm2d(planes)\n",
    "        self.shortcut = nn.Sequential()\n",
    "        if stride != 1 or in_planes != planes:\n",
    "            self.shortcut = nn.Sequential(\n",
    "                            nn.Conv2d(in_planes, planes,\n",
    "                            kernel_size=1, stride=stride, bias=False),\n",
    "                            nn.BatchNorm2d(planes)\n",
    "                            )\n",
    "    def forward(self, x):\n",
    "        out = F.relu(self.bn1(self.conv1(x)))\n",
    "        out = self.bn2(self.conv2(out))\n",
    "        out += self.shortcut(x)\n",
    "        out = F.relu(out)\n",
    "        return out"
   ]
  },
  {
   "cell_type": "code",
   "execution_count": null,
   "metadata": {},
   "outputs": [],
   "source": [
    "# 책 내용의 코드는 간소화시킨 모델이였기에 채널 수를 늘리고 레이어 깊이를\n",
    "# 기존 ResNet 34 레이어 모델과 동일하게 하였습니다.\n",
    "class ResNet(nn.Module):\n",
    "    def __init__(self, num_classes=100):\n",
    "        super(ResNet, self).__init__()\n",
    "        # 기본 채널 수 64개로 변경\n",
    "        self.in_planes = 64\n",
    "        self.conv1 = nn.Conv2d(3, 64, kernel_size=3, stride=1, padding=1, bias=False)\n",
    "        self.bn1 = nn.BatchNorm2d(64)\n",
    "\n",
    "        self.layer1 = self._make_layer(64, 3, stride=1) # 64 3X3 6개\n",
    "        self.layer2 = self._make_layer(128, 4, stride=2) # 128 3X3 8개\n",
    "        self.layer3 = self._make_layer(256, 6, stride=2) # 256 3X3 12개\n",
    "        # 레이어 추가\n",
    "        self.layer4 = self._make_layer(512, 3, stride=2) # 512 3X3 6개  \n",
    "        # 총 레이어 갯수 = input layer + 32개 + output layer = 34개\n",
    "\n",
    "        self.linear = nn.Linear(512, num_classes)\n",
    "\n",
    "    def _make_layer(self, planes, num_blocks, stride):\n",
    "        strides = [stride] + [1]*(num_blocks-1)\n",
    "        layers = []\n",
    "        for stride in strides:\n",
    "            layers.append(BasicBlock(self.in_planes, planes, stride))\n",
    "            self.in_planes = planes\n",
    "        return nn.Sequential(*layers)\n",
    "    \n",
    "    def forward(self, x):\n",
    "        out = F.relu(self.bn1(self.conv1(x)))\n",
    "        out = self.layer1(out)\n",
    "        out = self.layer2(out)\n",
    "        out = self.layer3(out)\n",
    "        out = self.layer4(out)\n",
    "        # 평균 풀링 커널 수 8 -> 4\n",
    "        out = F.avg_pool2d(out, 4)\n",
    "        out = out.view(out.size(0), -1)\n",
    "        out = self.linear(out)\n",
    "        return out"
   ]
  },
  {
   "cell_type": "code",
   "execution_count": 8,
   "metadata": {},
   "outputs": [],
   "source": [
    "model = ResNet().to(DEVICE)\n",
    "optimizer = optim.SGD(model.parameters(), lr=0.1, momentum=0.9, weight_decay=0.0005)\n",
    "scheduler = optim.lr_scheduler.StepLR(optimizer, step_size=50, gamma=0.1)"
   ]
  },
  {
   "cell_type": "code",
   "execution_count": 9,
   "metadata": {},
   "outputs": [],
   "source": [
    "def train(model, train_loader, optimizer):\n",
    "    model.train()\n",
    "    for batch_idx, (data, target) in enumerate(train_loader):\n",
    "        data, target = data.to(DEVICE), target.to(DEVICE) # 학습 데이터를 DEVICE의 메모리로 보냄\n",
    "        optimizer.zero_grad()\n",
    "        output = model(data)\n",
    "        loss = F.cross_entropy(output, target)\n",
    "        loss.backward()\n",
    "        optimizer.step()"
   ]
  },
  {
   "cell_type": "code",
   "execution_count": 10,
   "metadata": {},
   "outputs": [],
   "source": [
    "def evaluate(model, test_loader):\n",
    "    model.eval()\n",
    "    test_loss = 0\n",
    "    correct = 0\n",
    "    with torch.no_grad():\n",
    "        for data, target in test_loader:\n",
    "            data, target = data.to(DEVICE), target.to(DEVICE)\n",
    "            output = model(data)\n",
    "\n",
    "            test_loss += F.cross_entropy(output, target, reduction='sum').item()\n",
    "            \n",
    "            pred = output.max(1, keepdim=True)[1]\n",
    "            correct += pred.eq(target.view_as(pred)).sum().item()\n",
    "    test_loss /= len(test_loader.dataset)\n",
    "    test_accuracy = 100. * correct / len(test_loader.dataset)\n",
    "    return test_loss, test_accuracy"
   ]
  },
  {
   "cell_type": "code",
   "execution_count": 11,
   "metadata": {},
   "outputs": [],
   "source": [
    "loss = []\n",
    "accuracy = []"
   ]
  },
  {
   "cell_type": "code",
   "execution_count": 12,
   "metadata": {},
   "outputs": [
    {
     "name": "stderr",
     "output_type": "stream",
     "text": [
      "c:\\Users\\sogno\\AppData\\Local\\Programs\\Python\\Python39\\lib\\site-packages\\torch\\optim\\lr_scheduler.py:224: UserWarning: Detected call of `lr_scheduler.step()` before `optimizer.step()`. In PyTorch 1.1.0 and later, you should call them in the opposite order: `optimizer.step()` before `lr_scheduler.step()`.  Failure to do this will result in PyTorch skipping the first value of the learning rate schedule. See more details at https://pytorch.org/docs/stable/optim.html#how-to-adjust-learning-rate\n",
      "  warnings.warn(\n"
     ]
    },
    {
     "name": "stdout",
     "output_type": "stream",
     "text": [
      "[1] Test Loss: 3.8450, Accuracy: 9.26%\n",
      "[2] Test Loss: 3.4662, Accuracy: 16.71%\n",
      "[3] Test Loss: 3.1695, Accuracy: 22.59%\n",
      "[4] Test Loss: 2.8267, Accuracy: 29.75%\n",
      "[5] Test Loss: 2.5578, Accuracy: 34.42%\n",
      "[6] Test Loss: 2.3010, Accuracy: 38.97%\n",
      "[7] Test Loss: 2.0947, Accuracy: 44.05%\n",
      "[8] Test Loss: 2.0232, Accuracy: 45.70%\n",
      "[9] Test Loss: 1.9240, Accuracy: 47.56%\n",
      "[10] Test Loss: 1.8746, Accuracy: 48.35%\n",
      "[11] Test Loss: 1.8032, Accuracy: 51.24%\n",
      "[12] Test Loss: 2.0527, Accuracy: 47.08%\n",
      "[13] Test Loss: 1.9440, Accuracy: 48.99%\n",
      "[14] Test Loss: 1.6952, Accuracy: 54.42%\n",
      "[15] Test Loss: 1.7868, Accuracy: 52.46%\n",
      "[16] Test Loss: 1.8294, Accuracy: 52.19%\n",
      "[17] Test Loss: 1.6722, Accuracy: 54.98%\n",
      "[18] Test Loss: 1.6542, Accuracy: 55.80%\n",
      "[19] Test Loss: 1.5272, Accuracy: 57.59%\n",
      "[20] Test Loss: 1.6428, Accuracy: 55.28%\n",
      "[21] Test Loss: 1.7013, Accuracy: 53.85%\n",
      "[22] Test Loss: 1.7132, Accuracy: 54.92%\n",
      "[23] Test Loss: 2.1093, Accuracy: 47.70%\n",
      "[24] Test Loss: 1.7449, Accuracy: 53.40%\n",
      "[25] Test Loss: 1.6106, Accuracy: 57.00%\n",
      "[26] Test Loss: 1.5615, Accuracy: 57.97%\n",
      "[27] Test Loss: 1.6235, Accuracy: 57.23%\n",
      "[28] Test Loss: 1.5838, Accuracy: 57.46%\n",
      "[29] Test Loss: 1.5287, Accuracy: 58.12%\n",
      "[30] Test Loss: 1.6814, Accuracy: 56.11%\n",
      "[31] Test Loss: 1.5657, Accuracy: 57.78%\n",
      "[32] Test Loss: 1.6619, Accuracy: 56.16%\n",
      "[33] Test Loss: 1.7897, Accuracy: 55.04%\n",
      "[34] Test Loss: 1.7209, Accuracy: 56.19%\n",
      "[35] Test Loss: 1.6568, Accuracy: 57.26%\n",
      "[36] Test Loss: 1.7201, Accuracy: 56.05%\n",
      "[37] Test Loss: 1.5791, Accuracy: 57.98%\n",
      "[38] Test Loss: 1.5398, Accuracy: 59.58%\n",
      "[39] Test Loss: 1.5766, Accuracy: 58.76%\n",
      "[40] Test Loss: 1.5603, Accuracy: 58.10%\n",
      "[41] Test Loss: 1.8497, Accuracy: 53.12%\n",
      "[42] Test Loss: 1.4654, Accuracy: 60.25%\n",
      "[43] Test Loss: 1.6341, Accuracy: 56.82%\n",
      "[44] Test Loss: 1.5662, Accuracy: 57.85%\n",
      "[45] Test Loss: 1.5949, Accuracy: 57.63%\n",
      "[46] Test Loss: 1.6839, Accuracy: 56.14%\n",
      "[47] Test Loss: 1.8326, Accuracy: 54.39%\n",
      "[48] Test Loss: 1.6103, Accuracy: 58.10%\n",
      "[49] Test Loss: 1.4952, Accuracy: 59.70%\n",
      "[50] Test Loss: 0.9229, Accuracy: 73.91%\n"
     ]
    }
   ],
   "source": [
    "for epoch in range(1, EPOCHS + 1):\n",
    "    scheduler.step()\n",
    "    train(model, train_loader, optimizer)\n",
    "    test_loss, test_accuracy= evaluate(model, test_loader)\n",
    "    loss.append(test_loss)\n",
    "    accuracy.append(test_accuracy)\n",
    "    \n",
    "    print('[{}] Test Loss: {:.4f}, Accuracy: {:.2f}%'.format(epoch, test_loss, test_accuracy))"
   ]
  },
  {
   "cell_type": "code",
   "execution_count": 13,
   "metadata": {},
   "outputs": [],
   "source": [
    "PATH = './.models/ResNet_Custom_Model.pt'"
   ]
  },
  {
   "cell_type": "code",
   "execution_count": 14,
   "metadata": {},
   "outputs": [],
   "source": [
    "torch.save(model.state_dict(), PATH)"
   ]
  },
  {
   "cell_type": "code",
   "execution_count": 15,
   "metadata": {},
   "outputs": [],
   "source": [
    "loss = np.array(loss)\n",
    "accuracy = np.array(accuracy)\n",
    "epochs = np.array([x for x in range(1, EPOCHS + 1)])"
   ]
  },
  {
   "cell_type": "code",
   "execution_count": 16,
   "metadata": {},
   "outputs": [],
   "source": [
    "df = pd.DataFrame({'epoch': epochs,\n",
    "                   'loss': loss,\n",
    "                   'accuracy': accuracy})\n",
    "df.to_csv(\".result/ResNet_Custom_result.csv\", index=False)"
   ]
  },
  {
   "cell_type": "code",
   "execution_count": 17,
   "metadata": {},
   "outputs": [
    {
     "data": {
      "text/plain": [
       "Text(0, 0.5, 'Accuracy')"
      ]
     },
     "execution_count": 17,
     "metadata": {},
     "output_type": "execute_result"
    },
    {
     "data": {
      "image/png": "[encoded data removed]",
      "text/plain": [
       "<Figure size 800x350 with 2 Axes>"
      ]
     },
     "metadata": {},
     "output_type": "display_data"
    }
   ],
   "source": [
    "fig, axs = plt.subplots(ncols=2, figsize=(8, 3.5), layout=\"constrained\")\n",
    "\n",
    "axs[0].plot(epochs, loss, c='g', linewidth=2)\n",
    "axs[0].set_title('ResNet(Custom) Epoch : loss value')\n",
    "axs[0].set_xlabel('Epochs')\n",
    "axs[0].set_ylabel('loss')\n",
    "\n",
    "axs[1].plot(epochs, accuracy, c='r', linewidth=2)\n",
    "axs[1].set_title('ResNet(Custom) Epoch : Accuracy value(%)')\n",
    "axs[1].set_xlabel('Epochs')\n",
    "axs[1].set_ylabel('Accuracy')"
   ]
  }
 ],
 "metadata": {
  "kernelspec": {
   "display_name": "Python 3",
   "language": "python",
   "name": "python3"
  },
  "language_info": {
   "codemirror_mode": {
    "name": "ipython",
    "version": 3
   },
   "file_extension": ".py",
   "mimetype": "text/x-python",
   "name": "python",
   "nbconvert_exporter": "python",
   "pygments_lexer": "ipython3",
   "version": "3.9.13"
  }
 },
 "nbformat": 4,
 "nbformat_minor": 2
}
