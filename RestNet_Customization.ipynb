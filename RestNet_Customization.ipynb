{
 "cells": [
  {
   "cell_type": "markdown",
   "metadata": {},
   "source": [
    "Increase the dimension of the layers that are learned in transfer learning (make sure not to overfit)\n",
    "\n",
    "Use transfer learning with Convolution layers and not MLP\n",
    "\n",
    "let the optimization algorithm choose the learning rate on its own\n",
    "\n",
    "Play with additional augmentations to the dataset"
   ]
  }
 ],
 "metadata": {
  "language_info": {
   "name": "python"
  }
 },
 "nbformat": 4,
 "nbformat_minor": 2
}
