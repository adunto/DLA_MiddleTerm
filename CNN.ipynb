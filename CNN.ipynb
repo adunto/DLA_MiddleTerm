{
 "cells": [
  {
   "cell_type": "code",
   "execution_count": 1,
   "metadata": {},
   "outputs": [],
   "source": [
    "import torch\n",
    "import torch.nn as nn\n",
    "import torch.optim as optim\n",
    "import torch.nn.functional as F\n",
    "from torchvision import transforms, datasets\n",
    "from lib import calculate_normalize as CalNorm\n",
    "\n",
    "import pandas as pd\n",
    "import numpy as np\n",
    "import matplotlib.pyplot as plt"
   ]
  },
  {
   "cell_type": "code",
   "execution_count": 2,
   "metadata": {},
   "outputs": [],
   "source": [
    "EPOCHS = 50\n",
    "BATCH_SIZE = 64"
   ]
  },
  {
   "cell_type": "code",
   "execution_count": 3,
   "metadata": {},
   "outputs": [
    {
     "name": "stdout",
     "output_type": "stream",
     "text": [
      "cuda\n"
     ]
    }
   ],
   "source": [
    "# cuda 확인\n",
    "USE_CUDA = torch.cuda.is_available()\n",
    "DEVICE = torch.device(\"cuda\" if USE_CUDA else \"cpu\")\n",
    "print(DEVICE)"
   ]
  },
  {
   "cell_type": "code",
   "execution_count": null,
   "metadata": {},
   "outputs": [
    {
     "name": "stdout",
     "output_type": "stream",
     "text": [
      "Files already downloaded and verified\n",
      "Files already downloaded and verified\n"
     ]
    }
   ],
   "source": [
    "trainset = datasets.CIFAR100('./.data',\n",
    "                             train=True,\n",
    "                             download=True,\n",
    "                             transform=transforms.Compose([\n",
    "                                 transforms.ToTensor()\n",
    "                             ]))\n",
    "testset = datasets.CIFAR100('./.data',\n",
    "                             train=False,\n",
    "                             download=True,\n",
    "                             transform=transforms.Compose([\n",
    "                                 transforms.ToTensor()\n",
    "                             ]))\n",
    "mean_, std_ = CalNorm(trainset)\n",
    "print(\"mean = {}\\nstd = {}\".format(mean_, std_))"
   ]
  },
  {
   "cell_type": "code",
   "execution_count": null,
   "metadata": {},
   "outputs": [
    {
     "name": "stdout",
     "output_type": "stream",
     "text": [
      "Files already downloaded and verified\n",
      "Files already downloaded and verified\n"
     ]
    }
   ],
   "source": [
    "trainset = datasets.CIFAR100('./.data',\n",
    "                             train=True,\n",
    "                             download=True,\n",
    "                             transform=transforms.Compose([\n",
    "                                 transforms.ToTensor(),\n",
    "                                 transforms.Normalize(mean_, std_)\n",
    "                             ]))\n",
    "testset = datasets.CIFAR100('./.data',\n",
    "                             train=False,\n",
    "                             download=True,\n",
    "                             transform=transforms.Compose([\n",
    "                                 transforms.ToTensor(),\n",
    "                                 transforms.Normalize(mean_, std_)\n",
    "                             ]))"
   ]
  },
  {
   "cell_type": "code",
   "execution_count": null,
   "metadata": {},
   "outputs": [],
   "source": [
    "train_loader = torch.utils.data.DataLoader(dataset=trainset,\n",
    "                                            batch_size=BATCH_SIZE,\n",
    "                                            shuffle=True)\n",
    "test_loader = torch.utils.data.DataLoader(dataset=testset,\n",
    "                                          batch_size=BATCH_SIZE,\n",
    "                                          shuffle=True)"
   ]
  },
  {
   "cell_type": "code",
   "execution_count": null,
   "metadata": {},
   "outputs": [],
   "source": [
    "class CNN(nn.Module):\n",
    "    def __init__(self):\n",
    "        super(CNN, self).__init__()\n",
    "        self.conv1 = nn.Conv2d(3, 32, kernel_size=3, padding=1)\n",
    "        self.conv2 = nn.Conv2d(32, 64, kernel_size=3)\n",
    "        self.conv2_drop = nn.Dropout2d()\n",
    "        self.fc1 = nn.Linear(3136, 625)\n",
    "        self.fc2 = nn.Linear(625, 100)\n",
    "\n",
    "    def forward(self, x):\n",
    "        x = F.relu(F.max_pool2d(self.conv1(x), 2))\n",
    "        x = F.relu(F.max_pool2d(self.conv2_drop(self.conv2(x)), 2))\n",
    "        x = x.view(x.size(0), -1)  \n",
    "        x = F.relu(self.fc1(x))\n",
    "        x = F.dropout(x, training=self.training)\n",
    "        x = self.fc2(x)\n",
    "        return x"
   ]
  },
  {
   "cell_type": "code",
   "execution_count": null,
   "metadata": {},
   "outputs": [],
   "source": [
    "model = CNN().to(DEVICE)\n",
    "optimizer = optim.SGD(model.parameters(), lr=0.01)"
   ]
  },
  {
   "cell_type": "code",
   "execution_count": null,
   "metadata": {},
   "outputs": [],
   "source": [
    "def train(model, train_loader, optimizer, epoch):\n",
    "    model.train()\n",
    "    for batch_idx, (data, traget) in enumerate(train_loader):\n",
    "        data, target = data.to(DEVICE), traget.to(DEVICE)\n",
    "        optimizer.zero_grad()\n",
    "        output = model(data)\n",
    "        loss = F.cross_entropy(output, target)\n",
    "        loss.backward()\n",
    "        optimizer.step()\n",
    "\n",
    "        if batch_idx % 500 == 0:\n",
    "            print('Train Epoch: {} [{}/{} ({:.0f}%)]\\tLoss: {:.6f}'.format(\n",
    "                epoch, batch_idx * len(data), len(train_loader.dataset),\n",
    "                100. * batch_idx / len(train_loader), loss.item()))\n"
   ]
  },
  {
   "cell_type": "code",
   "execution_count": null,
   "metadata": {},
   "outputs": [],
   "source": [
    "def evaluate(model, test_loader):\n",
    "    model.eval()\n",
    "    test_loss = 0\n",
    "    correct = 0\n",
    "    with torch.no_grad():\n",
    "        for data, target in test_loader:\n",
    "            data, target = data.to(DEVICE), target.to(DEVICE)\n",
    "            output = model(data)\n",
    "\n",
    "            # 배치 오차를 합산\n",
    "            test_loss += F.cross_entropy(output, target, reduction='sum').item()\n",
    "\n",
    "            # 가장 높은 값을 가진 인덱스가 바로 예측값\n",
    "            pred = output.max(1, keepdim=True)[1]\n",
    "            correct += pred.eq(target.view_as(pred)).sum().item()\n",
    "\n",
    "    test_loss /= len(test_loader.dataset)\n",
    "    test_accuracy = 100. * correct / len(test_loader.dataset)\n",
    "    return test_loss, test_accuracy"
   ]
  },
  {
   "cell_type": "code",
   "execution_count": null,
   "metadata": {},
   "outputs": [],
   "source": [
    "loss = []\n",
    "accuracy = []"
   ]
  },
  {
   "cell_type": "code",
   "execution_count": null,
   "metadata": {},
   "outputs": [
    {
     "name": "stdout",
     "output_type": "stream",
     "text": [
      "Train Epoch: 1 [0/50000 (0%)]\tLoss: 2.134675\n",
      "Train Epoch: 1 [32000/50000 (64%)]\tLoss: 2.371560\n",
      "[1] Test Loss: 2.2735, Accuracy: 43.57%\n",
      "Train Epoch: 2 [0/50000 (0%)]\tLoss: 2.089388\n",
      "Train Epoch: 2 [32000/50000 (64%)]\tLoss: 2.311030\n",
      "[2] Test Loss: 2.2744, Accuracy: 43.20%\n",
      "Train Epoch: 3 [0/50000 (0%)]\tLoss: 2.402704\n",
      "Train Epoch: 3 [32000/50000 (64%)]\tLoss: 2.139050\n",
      "[3] Test Loss: 2.2625, Accuracy: 43.51%\n",
      "Train Epoch: 4 [0/50000 (0%)]\tLoss: 2.144802\n",
      "Train Epoch: 4 [32000/50000 (64%)]\tLoss: 2.170556\n",
      "[4] Test Loss: 2.2628, Accuracy: 43.50%\n",
      "Train Epoch: 5 [0/50000 (0%)]\tLoss: 2.238356\n",
      "Train Epoch: 5 [32000/50000 (64%)]\tLoss: 1.744372\n",
      "[5] Test Loss: 2.2750, Accuracy: 43.30%\n",
      "Train Epoch: 6 [0/50000 (0%)]\tLoss: 1.900973\n",
      "Train Epoch: 6 [32000/50000 (64%)]\tLoss: 2.411758\n",
      "[6] Test Loss: 2.2594, Accuracy: 43.59%\n",
      "Train Epoch: 7 [0/50000 (0%)]\tLoss: 1.694844\n",
      "Train Epoch: 7 [32000/50000 (64%)]\tLoss: 1.862005\n",
      "[7] Test Loss: 2.2463, Accuracy: 43.77%\n",
      "Train Epoch: 8 [0/50000 (0%)]\tLoss: 1.885464\n",
      "Train Epoch: 8 [32000/50000 (64%)]\tLoss: 1.834761\n",
      "[8] Test Loss: 2.2562, Accuracy: 43.84%\n",
      "Train Epoch: 9 [0/50000 (0%)]\tLoss: 2.079651\n",
      "Train Epoch: 9 [32000/50000 (64%)]\tLoss: 1.704844\n",
      "[9] Test Loss: 2.2613, Accuracy: 43.55%\n",
      "Train Epoch: 10 [0/50000 (0%)]\tLoss: 1.918718\n",
      "Train Epoch: 10 [32000/50000 (64%)]\tLoss: 2.081372\n",
      "[10] Test Loss: 2.2477, Accuracy: 43.64%\n",
      "Train Epoch: 11 [0/50000 (0%)]\tLoss: 1.934274\n",
      "Train Epoch: 11 [32000/50000 (64%)]\tLoss: 1.883747\n",
      "[11] Test Loss: 2.2435, Accuracy: 43.95%\n",
      "Train Epoch: 12 [0/50000 (0%)]\tLoss: 1.557702\n",
      "Train Epoch: 12 [32000/50000 (64%)]\tLoss: 2.444942\n",
      "[12] Test Loss: 2.2452, Accuracy: 43.98%\n",
      "Train Epoch: 13 [0/50000 (0%)]\tLoss: 1.683561\n",
      "Train Epoch: 13 [32000/50000 (64%)]\tLoss: 2.283577\n",
      "[13] Test Loss: 2.2408, Accuracy: 43.96%\n",
      "Train Epoch: 14 [0/50000 (0%)]\tLoss: 1.894124\n",
      "Train Epoch: 14 [32000/50000 (64%)]\tLoss: 1.676507\n",
      "[14] Test Loss: 2.2605, Accuracy: 43.35%\n",
      "Train Epoch: 15 [0/50000 (0%)]\tLoss: 2.094214\n",
      "Train Epoch: 15 [32000/50000 (64%)]\tLoss: 1.930152\n",
      "[15] Test Loss: 2.2385, Accuracy: 43.86%\n",
      "Train Epoch: 16 [0/50000 (0%)]\tLoss: 2.009987\n",
      "Train Epoch: 16 [32000/50000 (64%)]\tLoss: 1.810761\n",
      "[16] Test Loss: 2.2389, Accuracy: 43.70%\n",
      "Train Epoch: 17 [0/50000 (0%)]\tLoss: 2.252202\n",
      "Train Epoch: 17 [32000/50000 (64%)]\tLoss: 1.923485\n",
      "[17] Test Loss: 2.2386, Accuracy: 43.53%\n",
      "Train Epoch: 18 [0/50000 (0%)]\tLoss: 1.858682\n",
      "Train Epoch: 18 [32000/50000 (64%)]\tLoss: 2.076413\n",
      "[18] Test Loss: 2.2262, Accuracy: 44.19%\n",
      "Train Epoch: 19 [0/50000 (0%)]\tLoss: 1.960631\n",
      "Train Epoch: 19 [32000/50000 (64%)]\tLoss: 1.674707\n",
      "[19] Test Loss: 2.2428, Accuracy: 43.98%\n",
      "Train Epoch: 20 [0/50000 (0%)]\tLoss: 1.712702\n",
      "Train Epoch: 20 [32000/50000 (64%)]\tLoss: 1.920013\n",
      "[20] Test Loss: 2.2360, Accuracy: 44.26%\n",
      "Train Epoch: 21 [0/50000 (0%)]\tLoss: 1.765142\n",
      "Train Epoch: 21 [32000/50000 (64%)]\tLoss: 1.803904\n",
      "[21] Test Loss: 2.2263, Accuracy: 44.27%\n",
      "Train Epoch: 22 [0/50000 (0%)]\tLoss: 1.727352\n",
      "Train Epoch: 22 [32000/50000 (64%)]\tLoss: 1.652162\n",
      "[22] Test Loss: 2.2329, Accuracy: 43.77%\n",
      "Train Epoch: 23 [0/50000 (0%)]\tLoss: 1.583788\n",
      "Train Epoch: 23 [32000/50000 (64%)]\tLoss: 2.090774\n",
      "[23] Test Loss: 2.2268, Accuracy: 43.87%\n",
      "Train Epoch: 24 [0/50000 (0%)]\tLoss: 1.279226\n",
      "Train Epoch: 24 [32000/50000 (64%)]\tLoss: 1.620625\n",
      "[24] Test Loss: 2.2382, Accuracy: 43.82%\n",
      "Train Epoch: 25 [0/50000 (0%)]\tLoss: 1.459433\n",
      "Train Epoch: 25 [32000/50000 (64%)]\tLoss: 1.711436\n",
      "[25] Test Loss: 2.2405, Accuracy: 43.48%\n",
      "Train Epoch: 26 [0/50000 (0%)]\tLoss: 2.034506\n",
      "Train Epoch: 26 [32000/50000 (64%)]\tLoss: 1.919540\n",
      "[26] Test Loss: 2.2217, Accuracy: 43.91%\n",
      "Train Epoch: 27 [0/50000 (0%)]\tLoss: 1.780381\n",
      "Train Epoch: 27 [32000/50000 (64%)]\tLoss: 1.638833\n",
      "[27] Test Loss: 2.2293, Accuracy: 43.88%\n",
      "Train Epoch: 28 [0/50000 (0%)]\tLoss: 1.334405\n",
      "Train Epoch: 28 [32000/50000 (64%)]\tLoss: 1.687003\n",
      "[28] Test Loss: 2.2341, Accuracy: 44.12%\n",
      "Train Epoch: 29 [0/50000 (0%)]\tLoss: 1.652600\n",
      "Train Epoch: 29 [32000/50000 (64%)]\tLoss: 1.565952\n",
      "[29] Test Loss: 2.2259, Accuracy: 44.14%\n",
      "Train Epoch: 30 [0/50000 (0%)]\tLoss: 1.608858\n",
      "Train Epoch: 30 [32000/50000 (64%)]\tLoss: 1.897806\n",
      "[30] Test Loss: 2.2174, Accuracy: 44.18%\n",
      "Train Epoch: 31 [0/50000 (0%)]\tLoss: 1.895614\n",
      "Train Epoch: 31 [32000/50000 (64%)]\tLoss: 1.928311\n",
      "[31] Test Loss: 2.2213, Accuracy: 44.05%\n",
      "Train Epoch: 32 [0/50000 (0%)]\tLoss: 1.172458\n",
      "Train Epoch: 32 [32000/50000 (64%)]\tLoss: 1.831492\n",
      "[32] Test Loss: 2.2218, Accuracy: 44.19%\n",
      "Train Epoch: 33 [0/50000 (0%)]\tLoss: 1.789841\n",
      "Train Epoch: 33 [32000/50000 (64%)]\tLoss: 1.561149\n",
      "[33] Test Loss: 2.2328, Accuracy: 43.89%\n",
      "Train Epoch: 34 [0/50000 (0%)]\tLoss: 1.203321\n",
      "Train Epoch: 34 [32000/50000 (64%)]\tLoss: 1.964472\n",
      "[34] Test Loss: 2.2267, Accuracy: 43.62%\n",
      "Train Epoch: 35 [0/50000 (0%)]\tLoss: 1.495532\n",
      "Train Epoch: 35 [32000/50000 (64%)]\tLoss: 1.426880\n",
      "[35] Test Loss: 2.2235, Accuracy: 43.92%\n",
      "Train Epoch: 36 [0/50000 (0%)]\tLoss: 1.897022\n",
      "Train Epoch: 36 [32000/50000 (64%)]\tLoss: 1.725418\n",
      "[36] Test Loss: 2.2341, Accuracy: 43.86%\n",
      "Train Epoch: 37 [0/50000 (0%)]\tLoss: 1.340727\n",
      "Train Epoch: 37 [32000/50000 (64%)]\tLoss: 1.475582\n",
      "[37] Test Loss: 2.2264, Accuracy: 44.15%\n",
      "Train Epoch: 38 [0/50000 (0%)]\tLoss: 1.434322\n",
      "Train Epoch: 38 [32000/50000 (64%)]\tLoss: 1.811274\n",
      "[38] Test Loss: 2.2334, Accuracy: 44.01%\n",
      "Train Epoch: 39 [0/50000 (0%)]\tLoss: 1.547816\n",
      "Train Epoch: 39 [32000/50000 (64%)]\tLoss: 1.482487\n",
      "[39] Test Loss: 2.2348, Accuracy: 43.76%\n",
      "Train Epoch: 40 [0/50000 (0%)]\tLoss: 1.541897\n",
      "Train Epoch: 40 [32000/50000 (64%)]\tLoss: 1.571738\n",
      "[40] Test Loss: 2.2220, Accuracy: 44.26%\n",
      "Train Epoch: 41 [0/50000 (0%)]\tLoss: 1.432534\n",
      "Train Epoch: 41 [32000/50000 (64%)]\tLoss: 1.693054\n",
      "[41] Test Loss: 2.2275, Accuracy: 44.08%\n",
      "Train Epoch: 42 [0/50000 (0%)]\tLoss: 1.342468\n",
      "Train Epoch: 42 [32000/50000 (64%)]\tLoss: 1.580816\n",
      "[42] Test Loss: 2.2370, Accuracy: 43.89%\n",
      "Train Epoch: 43 [0/50000 (0%)]\tLoss: 1.783819\n",
      "Train Epoch: 43 [32000/50000 (64%)]\tLoss: 1.658133\n",
      "[43] Test Loss: 2.2257, Accuracy: 44.19%\n",
      "Train Epoch: 44 [0/50000 (0%)]\tLoss: 1.639603\n",
      "Train Epoch: 44 [32000/50000 (64%)]\tLoss: 1.740584\n",
      "[44] Test Loss: 2.2217, Accuracy: 44.24%\n",
      "Train Epoch: 45 [0/50000 (0%)]\tLoss: 1.944325\n",
      "Train Epoch: 45 [32000/50000 (64%)]\tLoss: 1.605178\n",
      "[45] Test Loss: 2.2227, Accuracy: 44.07%\n",
      "Train Epoch: 46 [0/50000 (0%)]\tLoss: 1.488185\n",
      "Train Epoch: 46 [32000/50000 (64%)]\tLoss: 1.722310\n",
      "[46] Test Loss: 2.2314, Accuracy: 44.04%\n",
      "Train Epoch: 47 [0/50000 (0%)]\tLoss: 1.669560\n",
      "Train Epoch: 47 [32000/50000 (64%)]\tLoss: 1.490098\n",
      "[47] Test Loss: 2.2318, Accuracy: 44.05%\n",
      "Train Epoch: 48 [0/50000 (0%)]\tLoss: 1.584288\n",
      "Train Epoch: 48 [32000/50000 (64%)]\tLoss: 1.811169\n",
      "[48] Test Loss: 2.2321, Accuracy: 44.01%\n",
      "Train Epoch: 49 [0/50000 (0%)]\tLoss: 1.433254\n",
      "Train Epoch: 49 [32000/50000 (64%)]\tLoss: 1.203601\n",
      "[49] Test Loss: 2.2334, Accuracy: 43.98%\n",
      "Train Epoch: 50 [0/50000 (0%)]\tLoss: 1.534218\n",
      "Train Epoch: 50 [32000/50000 (64%)]\tLoss: 1.766711\n",
      "[50] Test Loss: 2.2361, Accuracy: 44.23%\n"
     ]
    }
   ],
   "source": [
    "for epoch in range(1, EPOCHS + 1):\n",
    "    train(model, train_loader, optimizer, epoch)\n",
    "    test_loss, test_accuracy = evaluate(model, test_loader)\n",
    "    loss.append(test_loss)\n",
    "    accuracy.append(test_accuracy)\n",
    "\n",
    "    print('[{}] Test Loss: {:.4f}, Accuracy: {:.2f}%'.format(epoch, test_loss, test_accuracy))"
   ]
  },
  {
   "cell_type": "code",
   "execution_count": null,
   "metadata": {},
   "outputs": [],
   "source": [
    "PATH = './.models/CNN_Model.pt'"
   ]
  },
  {
   "cell_type": "code",
   "execution_count": null,
   "metadata": {},
   "outputs": [],
   "source": [
    "# saving model\n",
    "torch.save(model.state_dict(), PATH)"
   ]
  },
  {
   "cell_type": "code",
   "execution_count": null,
   "metadata": {},
   "outputs": [],
   "source": [
    "loss = np.array(loss)\n",
    "accuracy = np.array(accuracy)\n",
    "epochs = np.array([x for x in range(1, EPOCHS + 1)])"
   ]
  },
  {
   "cell_type": "code",
   "execution_count": null,
   "metadata": {},
   "outputs": [],
   "source": [
    "df = pd.DataFrame({'epoch': epochs,\n",
    "                   'loss': loss,\n",
    "                   'accuracy': accuracy})\n",
    "df.to_csv(\".result/CNN_result.csv\", index=False)"
   ]
  },
  {
   "cell_type": "code",
   "execution_count": null,
   "metadata": {},
   "outputs": [
    {
     "data": {
      "text/plain": [
       "Text(0, 0.5, 'Accuracy')"
      ]
     },
     "execution_count": 71,
     "metadata": {},
     "output_type": "execute_result"
    },
    {
     "data": {
      "image/png": "[encoded data removed]",
      "text/plain": [
       "<Figure size 800x350 with 2 Axes>"
      ]
     },
     "metadata": {},
     "output_type": "display_data"
    }
   ],
   "source": [
    "fig, axs = plt.subplots(ncols=2, figsize=(8, 3.5), layout=\"constrained\")\n",
    "\n",
    "axs[0].plot(epochs, loss, c='g', linewidth=2)\n",
    "axs[0].set_title('CNN Epoch : loss value')\n",
    "axs[0].set_xlabel('Epochs')\n",
    "axs[0].set_ylabel('loss')\n",
    "\n",
    "axs[1].plot(epochs, accuracy, c='r', linewidth=2)\n",
    "axs[1].set_title('CNN Epoch : Accuracy value(%)')\n",
    "axs[1].set_xlabel('Epochs')\n",
    "axs[1].set_ylabel('Accuracy')"
   ]
  }
 ],
 "metadata": {
  "kernelspec": {
   "display_name": "Python 3",
   "language": "python",
   "name": "python3"
  },
  "language_info": {
   "codemirror_mode": {
    "name": "ipython",
    "version": 3
   },
   "file_extension": ".py",
   "mimetype": "text/x-python",
   "name": "python",
   "nbconvert_exporter": "python",
   "pygments_lexer": "ipython3",
   "version": "3.9.13"
  }
 },
 "nbformat": 4,
 "nbformat_minor": 2
}
